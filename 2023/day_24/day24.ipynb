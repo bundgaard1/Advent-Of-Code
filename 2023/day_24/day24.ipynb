{
 "cells": [
  {
   "cell_type": "code",
   "execution_count": 62,
   "metadata": {},
   "outputs": [],
   "source": [
    "import numpy as np"
   ]
  },
  {
   "cell_type": "code",
   "execution_count": 63,
   "metadata": {},
   "outputs": [
    {
     "data": {
      "text/plain": [
       "0.31622776601683794"
      ]
     },
     "execution_count": 63,
     "metadata": {},
     "output_type": "execute_result"
    }
   ],
   "source": [
    "a = np.array([19, 13])[:,np.newaxis]\n",
    "b = np.array([18, 19])[:,np.newaxis]\n",
    "\n",
    "a1 = np.array([-2,  1])[:,np.newaxis]\n",
    "b1 = np.array([-1, -1])[:,np.newaxis]\n",
    "\n",
    "# trin 1 : vis ikke, parralelle\n",
    "np.vdot(a1,b1) / (np.linalg.norm(a1) * np.linalg.norm(b1))"
   ]
  },
  {
   "cell_type": "markdown",
   "metadata": {},
   "source": [
    "$$\n",
    "\n",
    "a_1 + t_1 * b_1 = a_2 + t_2 *b_2 \\\\\n",
    "a_1 - a_2 = t_2 *b_2 - t_1 * b_1 \\\\\n",
    "\n",
    "a_1 - a_2 = [-b_1, b_2]\\begin{bmatrix} t_1 \\\\ t_2  \\end{bmatrix}\n",
    "\n",
    "\n",
    "$$"
   ]
  },
  {
   "cell_type": "code",
   "execution_count": 64,
   "metadata": {},
   "outputs": [
    {
     "data": {
      "text/plain": [
       "array([[2.33333333],\n",
       "       [3.66666667]])"
      ]
     },
     "execution_count": 64,
     "metadata": {},
     "output_type": "execute_result"
    }
   ],
   "source": [
    "# Opsæt A og som følgdende B*t=a \n",
    "\n",
    "A = a-b\n",
    "B = np.hstack([-a1,b1])\n",
    "t= np.linalg.inv(B) @A\n",
    "t"
   ]
  },
  {
   "cell_type": "code",
   "execution_count": 65,
   "metadata": {},
   "outputs": [
    {
     "data": {
      "text/plain": [
       "array([[14.33333333],\n",
       "       [15.33333333]])"
      ]
     },
     "execution_count": 65,
     "metadata": {},
     "output_type": "execute_result"
    }
   ],
   "source": [
    "a + t[0]*a1"
   ]
  },
  {
   "cell_type": "code",
   "execution_count": 66,
   "metadata": {},
   "outputs": [
    {
     "data": {
      "text/plain": [
       "array([[14.33333333],\n",
       "       [15.33333333]])"
      ]
     },
     "execution_count": 66,
     "metadata": {},
     "output_type": "execute_result"
    }
   ],
   "source": [
    "b + t[1]*b1"
   ]
  },
  {
   "cell_type": "markdown",
   "metadata": {},
   "source": [
    "119566840879742, 430566433235378, 268387686114969 @ 18, -130, 74\n",
    "433973471892198, 260061119249300, 263051300077633 @ -16, -170, -118\n",
    "44446443386018, 281342848485672, 166638492241385 @ 197, 16, 200\n",
    "102165762267068, 293235409083300, 334966976680379 @ 19, 15, 9"
   ]
  },
  {
   "cell_type": "markdown",
   "metadata": {},
   "source": [
    "$$\n",
    "\n",
    "a+av*t_1 = s + sv * t_1 \\\\\n",
    "b+bv*t_2 = s + sv * t_2\\\\\n",
    "c+cv*t_3 = s + sv * t_3\n",
    "\n",
    "$$"
   ]
  },
  {
   "cell_type": "markdown",
   "metadata": {},
   "source": [
    "import sym"
   ]
  },
  {
   "cell_type": "code",
   "execution_count": 77,
   "metadata": {},
   "outputs": [
    {
     "data": {
      "text/plain": [
       "[{t1: 962702686958,\n",
       "  t2: 65649375952,\n",
       "  t3: 778256039004,\n",
       "  vx: -330,\n",
       "  vy: 63,\n",
       "  vz: 94,\n",
       "  x: 454587375941126,\n",
       "  y: 244764814652484,\n",
       "  z: 249133632375809}]"
      ]
     },
     "execution_count": 77,
     "metadata": {},
     "output_type": "execute_result"
    }
   ],
   "source": [
    "import sympy as sp\n",
    "\n",
    "x = sp.symbols(\"x\")\n",
    "y = sp.symbols(\"y\")\n",
    "z = sp.symbols(\"z\")\n",
    "vx, vy, vz = sp.symbols(\"vx vy vz\")\n",
    "t1, t2, t3, t4 = sp.symbols(\"t1 t2 t3, t4\")\n",
    "\n",
    "a = sp.solve([\n",
    "        119566840879742 + 18 * t1 - (x + vx * t1),\n",
    "        430566433235378 - 130 * t1 - (y + vy * t1),\n",
    "        268387686114969 + 74 * t1 - (z + vz * t1),\n",
    "        433973471892198 - 16 * t2 - (x + vx * t2),\n",
    "        260061119249300 - 170 * t2 - (y + vy * t2),\n",
    "        263051300077633 - 118 * t2  -(z + vz * t2),\n",
    "        44446443386018 + 197 * t3 - (x + vx * t3),\n",
    "        281342848485672 + 16 * t3 - (y + vy * t3),\n",
    "        166638492241385 + 200 * t3 - (z + vz * t3),\n",
    "\n",
    "])\n",
    "a"
   ]
  },
  {
   "cell_type": "code",
   "execution_count": 78,
   "metadata": {},
   "outputs": [
    {
     "data": {
      "text/plain": [
       "948485822969419"
      ]
     },
     "execution_count": 78,
     "metadata": {},
     "output_type": "execute_result"
    }
   ],
   "source": [
    "454587375941126 +244764814652484 +249133632375809"
   ]
  },
  {
   "cell_type": "code",
   "execution_count": 38,
   "metadata": {},
   "outputs": [
    {
     "data": {
      "text/plain": [
       "{x: 2, y: -2}"
      ]
     },
     "execution_count": 38,
     "metadata": {},
     "output_type": "execute_result"
    }
   ],
   "source": [
    "sp.solve([x-2, y+x])"
   ]
  }
 ],
 "metadata": {
  "kernelspec": {
   "display_name": "Python 3",
   "language": "python",
   "name": "python3"
  },
  "language_info": {
   "codemirror_mode": {
    "name": "ipython",
    "version": 3
   },
   "file_extension": ".py",
   "mimetype": "text/x-python",
   "name": "python",
   "nbconvert_exporter": "python",
   "pygments_lexer": "ipython3",
   "version": "3.12.1"
  }
 },
 "nbformat": 4,
 "nbformat_minor": 2
}
